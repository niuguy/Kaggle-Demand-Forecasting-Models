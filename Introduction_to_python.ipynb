{
  "nbformat": 4,
  "nbformat_minor": 0,
  "metadata": {
    "kernelspec": {
      "display_name": "Python 3",
      "language": "python",
      "name": "python3"
    },
    "language_info": {
      "codemirror_mode": {
        "name": "ipython",
        "version": 3
      },
      "file_extension": ".py",
      "mimetype": "text/x-python",
      "name": "python",
      "nbconvert_exporter": "python",
      "pygments_lexer": "ipython3",
      "version": "3.5.4"
    },
    "colab": {
      "name": "Session1_solutions.ipynb",
      "provenance": [],
      "include_colab_link": true
    }
  },
  "cells": [
    {
      "cell_type": "markdown",
      "metadata": {
        "id": "view-in-github",
        "colab_type": "text"
      },
      "source": [
        "<a href=\"https://colab.research.google.com/github/niuguy/Kaggle-Demand-Forecasting-Models/blob/master/Introduction_to_python.ipynb\" target=\"_parent\"><img src=\"https://colab.research.google.com/assets/colab-badge.svg\" alt=\"Open In Colab\"/></a>"
      ]
    },
    {
      "cell_type": "markdown",
      "metadata": {
        "id": "8lLNUa5mK5ej",
        "colab_type": "text"
      },
      "source": [
        "# Introduction to Python\n"
      ]
    },
    {
      "cell_type": "code",
      "metadata": {
        "id": "aov7UW3KK5el",
        "colab_type": "code",
        "colab": {},
        "outputId": "9f286990-bdee-402d-d368-3601fcd0dfaf"
      },
      "source": [
        "1+3\n"
      ],
      "execution_count": 0,
      "outputs": [
        {
          "output_type": "execute_result",
          "data": {
            "text/plain": [
              "4"
            ]
          },
          "metadata": {
            "tags": []
          },
          "execution_count": 1
        }
      ]
    },
    {
      "cell_type": "markdown",
      "metadata": {
        "id": "6QtfGg8kK5ep",
        "colab_type": "text"
      },
      "source": [
        "write something"
      ]
    },
    {
      "cell_type": "markdown",
      "metadata": {
        "id": "FGqlzafAK5eq",
        "colab_type": "text"
      },
      "source": [
        "**Structure of this session**\n",
        "\n",
        "* Introduction \n",
        " * Health data science lifecycle\n",
        " * Exploratory Data Analysis\n",
        " * What is Python, why are we using it\n",
        "* General concepts or programming\n",
        " * Getting help\n",
        "* Variables\n",
        "  * Numeric, string\n",
        "* Expressions and operators\n",
        "* Data types\n",
        "  * Lists\n",
        "  * Dictionaries\n",
        "* Function"
      ]
    },
    {
      "cell_type": "markdown",
      "metadata": {
        "id": "hYAiMfHoK5e0",
        "colab_type": "text"
      },
      "source": [
        "# Basics"
      ]
    },
    {
      "cell_type": "markdown",
      "metadata": {
        "id": "-EgIUJANK5e0",
        "colab_type": "text"
      },
      "source": [
        "The print function allows you to print values on the screen.\n",
        "\n",
        "It's one of many functions Python comes with (more to follow in the next session)"
      ]
    },
    {
      "cell_type": "code",
      "metadata": {
        "id": "qZvjPpOQK5e2",
        "colab_type": "code",
        "colab": {},
        "outputId": "95c1be5d-eb12-46aa-cbab-4c7390054c57"
      },
      "source": [
        "print (\"Hello, world\")"
      ],
      "execution_count": 0,
      "outputs": [
        {
          "output_type": "stream",
          "text": [
            "Hello, world\n"
          ],
          "name": "stdout"
        }
      ]
    },
    {
      "cell_type": "markdown",
      "metadata": {
        "id": "HvkZV7dIK5e_",
        "colab_type": "text"
      },
      "source": [
        "## Variables\n",
        "* Variables are how values are stored in a Python programme\n",
        "* Each variable has a unique name\n",
        "* A variable can support multiple data types\n",
        "  * i.e. it can hold a string, a number or a date (more detail below)\n",
        "* You assign a value using the _=_ operator\n",
        "* Variables in Python are _strongly, dynamically typed_\n",
        "  * The data type of a variable does not magically change\n",
        "  * A string will not become a number\n",
        "  * You are not allowed to do operations that are incompatible with the variable data type"
      ]
    },
    {
      "cell_type": "code",
      "metadata": {
        "id": "m7fG4Z0NK5fA",
        "colab_type": "code",
        "colab": {},
        "outputId": "8ebb6873-4f33-4050-ff29-476859076e22"
      },
      "source": [
        "name = \"PeterRabbit\"\n",
        "type(name)"
      ],
      "execution_count": 0,
      "outputs": [
        {
          "output_type": "execute_result",
          "data": {
            "text/plain": [
              "str"
            ]
          },
          "metadata": {
            "tags": []
          },
          "execution_count": 5
        }
      ]
    },
    {
      "cell_type": "code",
      "metadata": {
        "id": "7ZXq9dfHK5fD",
        "colab_type": "code",
        "colab": {},
        "outputId": "b2ebcbe8-7d10-4686-934e-341cc5b3c531"
      },
      "source": [
        "patient_hr=103\n",
        "type(patient_hr)"
      ],
      "execution_count": 0,
      "outputs": [
        {
          "output_type": "execute_result",
          "data": {
            "text/plain": [
              "int"
            ]
          },
          "metadata": {
            "tags": []
          },
          "execution_count": 6
        }
      ]
    },
    {
      "cell_type": "markdown",
      "metadata": {
        "id": "RSIT1lnjK5fG",
        "colab_type": "text"
      },
      "source": [
        "## Expressions and operators\n",
        "* Python scripts are essentially a collection of variables and operators\n",
        "* Operators manipulate variables or combine them, forming expressions\n",
        "\n",
        "```Python\n",
        "name = \"Spiros\"\n",
        "```\n",
        "\n",
        "* The operator is _=_\n",
        "* The variable is _name_\n",
        "\n",
        "```Python\n",
        "kg = 85\n",
        "grams = kg * 1000\n",
        "```\n",
        "* The operators are _=_ and _*_\n",
        "* The variables are _kg_ and _grams_\n"
      ]
    },
    {
      "cell_type": "markdown",
      "metadata": {
        "id": "YfC7_S9-K5fI",
        "colab_type": "text"
      },
      "source": [
        "##  Arithmetic operators\n",
        "\n",
        "Arithmetic operatora turn your computer into a (very) expensive calculator\n",
        "\n",
        "\n",
        "| Operator | Description | Example | Result |\n",
        "|----------| ----------- | ------- | ------ |\n",
        "| +  | addition           | 2+2  | 4   | \n",
        "| -  | subtraction        | 2-1  | 1   |\n",
        "| /  | division           | 3/2  | 1.5 |\n",
        "| // | division (integer) | 3//2 | 1   | \n",
        "| *  | multiplication     | 5\\*2 | 10  | \n",
        "| %  | modulus            | 7%3  | 1   |\n",
        "| \\*\\* | exponentiation | 2\\*\\*2 | 4 | "
      ]
    },
    {
      "cell_type": "markdown",
      "metadata": {
        "colab_type": "text",
        "id": "2YdtNBfRRW1z"
      },
      "source": [
        "##### Exercise\n",
        "\n",
        "* Type the examples above\n",
        "* Create two variable that contains a patients systolic and diastolic blood pressure and calculate the _systemic blood pressure_ (systolic - diastolic blood pressure)\n"
      ]
    },
    {
      "cell_type": "code",
      "metadata": {
        "colab_type": "code",
        "outputId": "d72089f9-2912-4c33-acb6-9104820f7b9d",
        "id": "7JiK-_tdRVQT",
        "colab": {}
      },
      "source": [
        "sys_bp = 120\n",
        "dias_bp = 80\n",
        "systemic_bp = sys_bp - dias_bp \n",
        "systemic_bp"
      ],
      "execution_count": 0,
      "outputs": [
        {
          "output_type": "execute_result",
          "data": {
            "text/plain": [
              "40"
            ]
          },
          "metadata": {
            "tags": []
          },
          "execution_count": 7
        }
      ]
    },
    {
      "cell_type": "markdown",
      "metadata": {
        "id": "eq4-BqH6K5fP",
        "colab_type": "text"
      },
      "source": [
        "##  Comparison (aka relational) operators\n",
        "\n",
        "* Comparison operators compare two values and decide the relation among them\n",
        "* They return _true_ if a condition is met and _false_ if its not\n",
        "\n",
        "| Operator | Description | Example | Result |\n",
        "|----------| ----------- | ------- | ------ |\n",
        "| == | true if values are equal     | 2==2  | true  | \n",
        "| != | true if values are not equal | 2!=1  | true  |\n",
        "| >  | greater than                 | 100>2 | true  |\n",
        "| <  | less than                    | 2<-1  | false | \n",
        "| >= | greater than or equal        | 5>=5  | true  | \n",
        "| <= | less than or equal           | 8<=2  | false  |"
      ]
    },
    {
      "cell_type": "markdown",
      "metadata": {
        "id": "JPWe60f5K5fQ",
        "colab_type": "text"
      },
      "source": [
        "##### Exercise\n",
        "* Type the examples above\n",
        "* Using the example above, check if the patients systolic blood pressure is _less_ than the diastolic blood pressure"
      ]
    },
    {
      "cell_type": "code",
      "metadata": {
        "id": "gmAXiv2nK5fQ",
        "colab_type": "code",
        "colab": {},
        "outputId": "7cc9ce08-81ae-4798-f9c0-e983bfc51dcb"
      },
      "source": [
        "sys_bp < dias_bp"
      ],
      "execution_count": 0,
      "outputs": [
        {
          "output_type": "execute_result",
          "data": {
            "text/plain": [
              "False"
            ]
          },
          "metadata": {
            "tags": []
          },
          "execution_count": 8
        }
      ]
    },
    {
      "cell_type": "markdown",
      "metadata": {
        "id": "7UFlf4MzK5fU",
        "colab_type": "text"
      },
      "source": [
        "##  Logic operators\n",
        "\n",
        "* Logic operators combine expressions into larger expressions\n",
        "* They work similarly to comparison operators\n",
        "* They return _true_ if a condition is met and _false_ if its not\n",
        "\n",
        "| Operator | Description | Example | Result |\n",
        "|----------| ----------- | ------- | ------ |\n",
        "| and | check if both conditions are true      | 2>1 and 3>4 | false  | \n",
        "| or  | check if either condition is true | 2 < 3 or 1>8  | true  |\n",
        "| xor (^) | check if *only* one condition is true | 4 < 3 xor 3 < 2 | false |"
      ]
    },
    {
      "cell_type": "markdown",
      "metadata": {
        "id": "HFWtVnRAK5fV",
        "colab_type": "text"
      },
      "source": [
        "##### Exercise\n",
        "* Type the examples above\n",
        "* Using the blood pressure example above, check if a patients systolic blood pressure and diastolic blood pressure are both more than 0"
      ]
    },
    {
      "cell_type": "code",
      "metadata": {
        "id": "Sn6E7YW-K5fX",
        "colab_type": "code",
        "colab": {},
        "outputId": "58bf3afb-7e00-480c-b86d-2b4d54909f90"
      },
      "source": [
        "sys_bp>0 and dias_bp>0"
      ],
      "execution_count": 0,
      "outputs": [
        {
          "output_type": "execute_result",
          "data": {
            "text/plain": [
              "True"
            ]
          },
          "metadata": {
            "tags": []
          },
          "execution_count": 9
        }
      ]
    },
    {
      "cell_type": "markdown",
      "metadata": {
        "id": "UPfBdONEK5fa",
        "colab_type": "text"
      },
      "source": [
        "## Data types"
      ]
    },
    {
      "cell_type": "markdown",
      "metadata": {
        "id": "iiPsJt71K5fb",
        "colab_type": "text"
      },
      "source": [
        "### Numbers\n",
        "* Number data types store numeric values.\n",
        "* Number objects are created when you assign a value to them.\n",
        "* Python supports four different numerical data types.\n",
        "\n",
        "| Name    | Usage |\n",
        "| --------| -------| \n",
        "| int     | signed integer             |\n",
        "| long    | long integer               |\n",
        "| float   | floating point real values |\n",
        "| complex | complex numbers            |"
      ]
    },
    {
      "cell_type": "code",
      "metadata": {
        "id": "i2AmYuk6K5fc",
        "colab_type": "code",
        "colab": {}
      },
      "source": [
        "number_one = 123\n",
        "number_two = 456\n",
        "number_three = 3.141516"
      ],
      "execution_count": 0,
      "outputs": []
    },
    {
      "cell_type": "code",
      "metadata": {
        "id": "rPvzc0qWK5ff",
        "colab_type": "code",
        "colab": {},
        "outputId": "be717ab1-272a-492d-ecba-daca4f2ee38b"
      },
      "source": [
        "type(number_one)"
      ],
      "execution_count": 0,
      "outputs": [
        {
          "output_type": "execute_result",
          "data": {
            "text/plain": [
              "int"
            ]
          },
          "metadata": {
            "tags": []
          },
          "execution_count": 11
        }
      ]
    },
    {
      "cell_type": "code",
      "metadata": {
        "id": "Eaaf2YJpK5fj",
        "colab_type": "code",
        "colab": {},
        "outputId": "af2cfb7c-3f1b-4582-f91a-52f52d4fdfbe"
      },
      "source": [
        "print (number_two)"
      ],
      "execution_count": 0,
      "outputs": [
        {
          "output_type": "stream",
          "text": [
            "456\n"
          ],
          "name": "stdout"
        }
      ]
    },
    {
      "cell_type": "markdown",
      "metadata": {
        "id": "4J-5gNDvK5fr",
        "colab_type": "text"
      },
      "source": [
        "### Strings\n",
        "* String data types store sequences of characters.\n",
        "* These must be enclosed in quotes (to distinguish them from variable names).\n",
        "* You can join multiple string variables with \"+\"\n",
        "* The len() function can return the total number of characters in a string.\n",
        "* Strings also have many other [built-in functions](https://docs.python.org/2/library/stdtypes.html#string-methods) used to manipulate them."
      ]
    },
    {
      "cell_type": "code",
      "metadata": {
        "id": "qarxVtk5K5fr",
        "colab_type": "code",
        "colab": {},
        "outputId": "ddcb380e-8406-4a82-968c-debad2cd3b7d"
      },
      "source": [
        "example_string = \"Hello, this is an example string. \"\n",
        "another_string = \"Hi, nice to meet you! \"\n",
        "last_example   = example_string + another_string\n",
        "print (last_example)"
      ],
      "execution_count": 0,
      "outputs": [
        {
          "output_type": "stream",
          "text": [
            "Hello, this is an example string. Hi, nice to meet you! \n"
          ],
          "name": "stdout"
        }
      ]
    },
    {
      "cell_type": "code",
      "metadata": {
        "id": "gUHDR91KK5fv",
        "colab_type": "code",
        "colab": {},
        "outputId": "e18f94f4-e00a-4a49-ac30-2cf4fa869687"
      },
      "source": [
        "example_string.swapcase()"
      ],
      "execution_count": 0,
      "outputs": [
        {
          "output_type": "execute_result",
          "data": {
            "text/plain": [
              "'hELLO, THIS IS AN EXAMPLE STRING. '"
            ]
          },
          "metadata": {
            "tags": []
          },
          "execution_count": 15
        }
      ]
    },
    {
      "cell_type": "markdown",
      "metadata": {
        "id": "wZexlk_zK5fy",
        "colab_type": "text"
      },
      "source": [
        "* Characters in strings are indexed.\n",
        "* This means the first string character element is 0, the second one is 1 etc\n",
        "* You can get the n-th string element by using the [ ] notation."
      ]
    },
    {
      "cell_type": "code",
      "metadata": {
        "id": "ewFNuScwK5fz",
        "colab_type": "code",
        "colab": {},
        "outputId": "ea760dad-dacc-4bb5-efe6-561b4b7ca46b"
      },
      "source": [
        "nhs_number = \"123456789\"\n",
        "print (nhs_number)\n",
        "print (nhs_number[0])\n",
        "print (nhs_number[2])"
      ],
      "execution_count": 0,
      "outputs": [
        {
          "output_type": "stream",
          "text": [
            "123456789\n",
            "1\n",
            "3\n"
          ],
          "name": "stdout"
        }
      ]
    },
    {
      "cell_type": "markdown",
      "metadata": {
        "id": "0o7J1yLhK5f8",
        "colab_type": "text"
      },
      "source": [
        "### Lists\n",
        "* Lists are used to group together multiple values.\n",
        "* The values do not necessarilly have to be the same type.\n",
        "* Elements in lists can be added, removed or changed."
      ]
    },
    {
      "cell_type": "code",
      "metadata": {
        "id": "1TszQVMtK5f9",
        "colab_type": "code",
        "colab": {},
        "outputId": "6b4301d8-3774-4509-add3-686d56e1eb66"
      },
      "source": [
        "example_list = [ 1, 2, 3, \"diagnosis\", \"patient_id\", \"in_patient\", 7, 9 ]\n",
        "print (example_list)"
      ],
      "execution_count": 0,
      "outputs": [
        {
          "output_type": "stream",
          "text": [
            "[1, 2, 3, 'diagnosis', 'patient_id', 'in_patient', 7, 9]\n"
          ],
          "name": "stdout"
        }
      ]
    },
    {
      "cell_type": "markdown",
      "metadata": {
        "id": "D4R23U8kK5gA",
        "colab_type": "text"
      },
      "source": [
        "* Elements in lists are indexed.\n",
        "* This means the first list element is 0, the second one is 1 etc\n",
        "* You can get the nth list element by using the [ ] notation."
      ]
    },
    {
      "cell_type": "code",
      "metadata": {
        "id": "CYn5l-ANK5gA",
        "colab_type": "code",
        "colab": {},
        "outputId": "7bd4392a-3c8e-4416-8c3f-4c1d060caf9f"
      },
      "source": [
        "print (example_list[0])\n",
        "print (example_list[5])"
      ],
      "execution_count": 0,
      "outputs": [
        {
          "output_type": "stream",
          "text": [
            "1\n",
            "in_patient\n"
          ],
          "name": "stdout"
        }
      ]
    },
    {
      "cell_type": "markdown",
      "metadata": {
        "id": "UFgoQw5DK5gE",
        "colab_type": "text"
      },
      "source": [
        "* Python has many useful list functions you can use.\n",
        "* Elements can be deleted with the del() function.\n",
        "* For example, we might want to delete the first element of the list."
      ]
    },
    {
      "cell_type": "code",
      "metadata": {
        "id": "0ieEU6VTK5gK",
        "colab_type": "code",
        "colab": {},
        "outputId": "ed0a6330-7502-4fb4-adb7-f90685c61bd5"
      },
      "source": [
        "del example_list[0]\n",
        "print (example_list)"
      ],
      "execution_count": 0,
      "outputs": [
        {
          "output_type": "stream",
          "text": [
            "[2, 3, 'diagnosis', 'patient_id', 'in_patient', 7, 9]\n"
          ],
          "name": "stdout"
        }
      ]
    },
    {
      "cell_type": "markdown",
      "metadata": {
        "id": "mDjqfatHK5gN",
        "colab_type": "text"
      },
      "source": [
        "* There are several functions for manipulating list values.\n",
        "* append(y) will append value y at the end of the list\n",
        "* insert(x,y) will insert value y at location x\n",
        "* delete(x) wil delete the value at location x\n",
        "* remove(x) will remove value x\n",
        "* count(x) will count the number of times values x appears in the list"
      ]
    },
    {
      "cell_type": "code",
      "metadata": {
        "id": "b-CvPb2jK5gO",
        "colab_type": "code",
        "colab": {},
        "outputId": "0acc16e4-51ce-429b-aa43-3b79ffe3dace"
      },
      "source": [
        "example_list.append(10)\n",
        "print (example_list)\n",
        "example_list.insert(0, 'carcinoma')\n",
        "print (example_list)\n",
        "example_list.remove(\"carcinoma\")\n",
        "print (example_list)\n",
        "print (example_list.count(\"patient_id\"))"
      ],
      "execution_count": 0,
      "outputs": [
        {
          "output_type": "stream",
          "text": [
            "[2, 3, 'diagnosis', 'patient_id', 'in_patient', 7, 9, 10]\n",
            "['carcinoma', 2, 3, 'diagnosis', 'patient_id', 'in_patient', 7, 9, 10]\n",
            "[2, 3, 'diagnosis', 'patient_id', 'in_patient', 7, 9, 10]\n",
            "1\n"
          ],
          "name": "stdout"
        }
      ]
    },
    {
      "cell_type": "markdown",
      "metadata": {
        "id": "e6iZZT5LK5gU",
        "colab_type": "text"
      },
      "source": [
        "### Dictionaries\n",
        "* Lists are great - but hard to use to organize things\n",
        "* Python provides another data structure to organize values, the _dictionary_\n",
        "* Dictionaries store data in pairs: a key and a value\n",
        "* Dictionaries allow you to retrieve a value based on the key"
      ]
    },
    {
      "cell_type": "code",
      "metadata": {
        "id": "Egoz8IxxK5gV",
        "colab_type": "code",
        "colab": {},
        "outputId": "6dc8173f-8dab-4982-df47-00af5a726a85"
      },
      "source": [
        "example_dictionary = { \n",
        "    \"0101010Q0\" : \"Magnesium Hydroxide\", \n",
        "    \"0101010R0\" : \"Simeticone \", \n",
        "    \"0103020P0\" : \"Pirenzepine \", \n",
        "    \"0101010S0\" : \"Calcium Carbonate & Simeticone\"} \n",
        "\n",
        "example_dictionary"
      ],
      "execution_count": 0,
      "outputs": [
        {
          "output_type": "execute_result",
          "data": {
            "text/plain": [
              "{'0101010Q0': 'Magnesium Hydroxide',\n",
              " '0101010R0': 'Simeticone ',\n",
              " '0101010S0': 'Calcium Carbonate & Simeticone',\n",
              " '0103020P0': 'Pirenzepine '}"
            ]
          },
          "metadata": {
            "tags": []
          },
          "execution_count": 23
        }
      ]
    },
    {
      "cell_type": "markdown",
      "metadata": {
        "id": "e5fVOKO6K5gY",
        "colab_type": "text"
      },
      "source": [
        "* You can retrieve a value from a dictionary using the key\n",
        "* Equally, if you try and retrieve a key that does not exist you will receive an error"
      ]
    },
    {
      "cell_type": "code",
      "metadata": {
        "id": "DaYY80UbK5gZ",
        "colab_type": "code",
        "colab": {},
        "outputId": "a326d4b2-4173-4a33-b860-cf98733765f8"
      },
      "source": [
        "print (example_dictionary[\"0101010R0\"])"
      ],
      "execution_count": 0,
      "outputs": [
        {
          "output_type": "stream",
          "text": [
            "Simeticone \n"
          ],
          "name": "stdout"
        }
      ]
    },
    {
      "cell_type": "code",
      "metadata": {
        "id": "V76OCmQwK5gd",
        "colab_type": "code",
        "colab": {},
        "outputId": "e21af72a-d43f-4a3e-9d97-663358024788"
      },
      "source": [
        "print (example_dictionary[\"does not exist\"])"
      ],
      "execution_count": 0,
      "outputs": [
        {
          "output_type": "error",
          "ename": "KeyError",
          "evalue": "'does not exist'",
          "traceback": [
            "\u001b[0;31m---------------------------------------------------------------------------\u001b[0m",
            "\u001b[0;31mKeyError\u001b[0m                                  Traceback (most recent call last)",
            "\u001b[0;32m<ipython-input-25-e408a807c873>\u001b[0m in \u001b[0;36m<module>\u001b[0;34m()\u001b[0m\n\u001b[0;32m----> 1\u001b[0;31m \u001b[0mprint\u001b[0m \u001b[0;34m(\u001b[0m\u001b[0mexample_dictionary\u001b[0m\u001b[0;34m[\u001b[0m\u001b[0;34m\"does not exist\"\u001b[0m\u001b[0;34m]\u001b[0m\u001b[0;34m)\u001b[0m\u001b[0;34m\u001b[0m\u001b[0m\n\u001b[0m",
            "\u001b[0;31mKeyError\u001b[0m: 'does not exist'"
          ]
        }
      ]
    },
    {
      "cell_type": "markdown",
      "metadata": {
        "id": "EC34hv7xK5gf",
        "colab_type": "text"
      },
      "source": [
        "* Dictionaries are immutable\n",
        "* You can add, and even overwrite, keys as you wish"
      ]
    },
    {
      "cell_type": "code",
      "metadata": {
        "id": "DnFKEFbOK5gf",
        "colab_type": "code",
        "colab": {},
        "outputId": "f3e54ba7-f958-4da6-a3c5-cdb18a346cb7"
      },
      "source": [
        "example_dictionary[\"0105010A0\"] = \"Aminosalicylic Acid\"\n",
        "example_dictionary"
      ],
      "execution_count": 0,
      "outputs": [
        {
          "output_type": "execute_result",
          "data": {
            "text/plain": [
              "{'0101010Q0': 'Magnesium Hydroxide',\n",
              " '0101010R0': 'Simeticone ',\n",
              " '0101010S0': 'Calcium Carbonate & Simeticone',\n",
              " '0103020P0': 'Pirenzepine ',\n",
              " '0105010A0': 'Aminosalicylic Acid'}"
            ]
          },
          "metadata": {
            "tags": []
          },
          "execution_count": 26
        }
      ]
    },
    {
      "cell_type": "code",
      "metadata": {
        "id": "Q5ar0UqYK5gh",
        "colab_type": "code",
        "colab": {},
        "outputId": "293b8e99-8efa-49e2-d2ac-b2e70856e886"
      },
      "source": [
        "example_dictionary[\"0105010A0\"] = \"Fake drug\"\n",
        "example_dictionary"
      ],
      "execution_count": 0,
      "outputs": [
        {
          "output_type": "execute_result",
          "data": {
            "text/plain": [
              "{'0101010Q0': 'Magnesium Hydroxide',\n",
              " '0101010R0': 'Simeticone ',\n",
              " '0101010S0': 'Calcium Carbonate & Simeticone',\n",
              " '0103020P0': 'Pirenzepine ',\n",
              " '0105010A0': 'Fake drug'}"
            ]
          },
          "metadata": {
            "tags": []
          },
          "execution_count": 27
        }
      ]
    },
    {
      "cell_type": "markdown",
      "metadata": {
        "id": "r0AgzL5BK5gl",
        "colab_type": "text"
      },
      "source": [
        "* You can just as easily remove elements from the dictionary\n",
        "* You can delete using the _del_ command\n",
        "* Lets delete the last entry which is wrong"
      ]
    },
    {
      "cell_type": "code",
      "metadata": {
        "id": "FxAd1w4XK5gm",
        "colab_type": "code",
        "colab": {},
        "outputId": "ab4c2e23-e407-45cb-c845-d090f95adf91"
      },
      "source": [
        "del(example_dictionary[\"0105010A0\"])\n",
        "example_dictionary"
      ],
      "execution_count": 0,
      "outputs": [
        {
          "output_type": "execute_result",
          "data": {
            "text/plain": [
              "{'0101010Q0': 'Magnesium Hydroxide',\n",
              " '0101010R0': 'Simeticone ',\n",
              " '0101010S0': 'Calcium Carbonate & Simeticone',\n",
              " '0103020P0': 'Pirenzepine '}"
            ]
          },
          "metadata": {
            "tags": []
          },
          "execution_count": 28
        }
      ]
    },
    {
      "cell_type": "markdown",
      "metadata": {
        "id": "7dWxWoGVK5go",
        "colab_type": "text"
      },
      "source": [
        "* Dictionaries have some useful built-in functions \n",
        "* You can get a list of all the keys using _keys_\n",
        "* You can get a list of all the value using _values_"
      ]
    },
    {
      "cell_type": "code",
      "metadata": {
        "id": "BuUR9KQBK5go",
        "colab_type": "code",
        "colab": {},
        "outputId": "fe5e8c94-0cdd-442a-f051-a42a165674a7"
      },
      "source": [
        "example_dictionary.keys()"
      ],
      "execution_count": 0,
      "outputs": [
        {
          "output_type": "execute_result",
          "data": {
            "text/plain": [
              "dict_keys(['0103020P0', '0101010R0', '0101010Q0', '0101010S0'])"
            ]
          },
          "metadata": {
            "tags": []
          },
          "execution_count": 29
        }
      ]
    },
    {
      "cell_type": "code",
      "metadata": {
        "id": "wRUQO4s5K5gq",
        "colab_type": "code",
        "colab": {},
        "outputId": "2557225d-6830-46b9-99ab-2c0727ccea99"
      },
      "source": [
        "example_dictionary.values()"
      ],
      "execution_count": 0,
      "outputs": [
        {
          "output_type": "execute_result",
          "data": {
            "text/plain": [
              "dict_values(['Pirenzepine ', 'Simeticone ', 'Magnesium Hydroxide', 'Calcium Carbonate & Simeticone'])"
            ]
          },
          "metadata": {
            "tags": []
          },
          "execution_count": 30
        }
      ]
    },
    {
      "cell_type": "markdown",
      "metadata": {
        "id": "QQDG0fndK5gs",
        "colab_type": "text"
      },
      "source": [
        "* All keys  are unique - very helpful\n",
        "* Values can be anything ! i.e. strings, lists, numbers, etc.\n",
        "* They stretch and shrink as you see fit\n",
        "* You will use them over and over again to create lookups"
      ]
    },
    {
      "cell_type": "markdown",
      "metadata": {
        "id": "UWo0lO2iRsiv",
        "colab_type": "text"
      },
      "source": [
        "## Functions\n"
      ]
    },
    {
      "cell_type": "markdown",
      "metadata": {
        "id": "-DkPr3b_ShKZ",
        "colab_type": "text"
      },
      "source": [
        "* A function is a block of code which only runs when it is called.\n",
        "\n",
        "* You can pass data, known as parameters, into a function.\n",
        "\n",
        "* A function can return data as a result."
      ]
    },
    {
      "cell_type": "code",
      "metadata": {
        "id": "dy_pkOHZSK2V",
        "colab_type": "code",
        "colab": {
          "base_uri": "https://localhost:8080/",
          "height": 34
        },
        "outputId": "d09e5191-7108-4ff9-af69-5dc8c051bc53"
      },
      "source": [
        "### a function that calculates the BMI\n",
        "def bmi_calc(height, weight):\n",
        "    bmi = weight / (height*height)\n",
        "    return bmi\n",
        "\n",
        "patient_bm = bmi_calc(1.79, 80)\n",
        "print (\"The patient's BMI is: \", patient_bm)"
      ],
      "execution_count": 3,
      "outputs": [
        {
          "output_type": "stream",
          "text": [
            "The patient's BMI is:  24.968009737523797\n"
          ],
          "name": "stdout"
        }
      ]
    },
    {
      "cell_type": "code",
      "metadata": {
        "id": "_-VYlyLtSQ_7",
        "colab_type": "code",
        "colab": {}
      },
      "source": [
        ""
      ],
      "execution_count": 0,
      "outputs": []
    }
  ]
}